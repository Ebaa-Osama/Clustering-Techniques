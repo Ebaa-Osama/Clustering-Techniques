{
 "cells": [
  {
   "cell_type": "code",
   "execution_count": 48,
   "id": "063f15fd",
   "metadata": {},
   "outputs": [],
   "source": [
    "import pandas as pd\n",
    "import numpy as np\n",
    "import matplotlib.pyplot as plt\n",
    "import seaborn as sns\n",
    "import warnings\n",
    "warnings.filterwarnings('ignore')\n",
    "\n",
    "from sklearn.decomposition import PCA\n",
    "from sklearn.neighbors import NearestNeighbors\n",
    "from kneed import KneeLocator\n",
    "\n",
    "from sklearn.cluster import DBSCAN\n",
    "from sklearn.cluster import KMeans\n",
    "from sklearn.mixture import GaussianMixture\n",
    "from sklearn.metrics import silhouette_score\n",
    "from sklearn.cluster import AgglomerativeClustering\n",
    "from yellowbrick.cluster import KElbowVisualizer\n",
    "from sklearn import preprocessing\n",
    "\n",
    "\n",
    "%matplotlib inline"
   ]
  },
  {
   "cell_type": "markdown",
   "id": "34ff593e",
   "metadata": {},
   "source": [
    "# \n",
    "## Helper Functions"
   ]
  },
  {
   "cell_type": "code",
   "execution_count": 2,
   "id": "51659d01",
   "metadata": {},
   "outputs": [],
   "source": [
    "def get_optimal_epsilon(dataframe):\n",
    "    nearest_neighbors = NearestNeighbors(n_neighbors=11)\n",
    "    neighbors = nearest_neighbors.fit(dataframe)\n",
    "    distances, indices = neighbors.kneighbors(dataframe)\n",
    "    distances = np.sort(distances[:,10], axis=0)\n",
    "    i = np.arange(len(distances))\n",
    "    knee = KneeLocator(i, distances, S=1, curve='convex', direction='increasing', interp_method='polynomial')\n",
    "    return(distances[knee.knee])"
   ]
  },
  {
   "cell_type": "code",
   "execution_count": 3,
   "id": "918b47ee",
   "metadata": {},
   "outputs": [],
   "source": [
    "def get_k_kmeans(dataframe):\n",
    "    model = KMeans()\n",
    "    visualizer = KElbowVisualizer(model, k=(2,10))\n",
    "    visualizer.fit(dataframe)        \n",
    "    visualizer.show()"
   ]
  },
  {
   "cell_type": "code",
   "execution_count": 4,
   "id": "e02d4523",
   "metadata": {},
   "outputs": [],
   "source": [
    "def get_k_agglomerative(dataframe):\n",
    "    model = AgglomerativeClustering()\n",
    "    visualizer = KElbowVisualizer(model, k=(2,10))\n",
    "    visualizer.fit(dataframe)        \n",
    "    visualizer.show()"
   ]
  },
  {
   "cell_type": "markdown",
   "id": "5b2a8fc9",
   "metadata": {},
   "source": [
    "\n",
    "## Clustering Functions"
   ]
  },
  {
   "cell_type": "code",
   "execution_count": 5,
   "id": "d0c8aa4a",
   "metadata": {},
   "outputs": [],
   "source": [
    "def DBSCAN_clustering(dataframe,epsilon,min_samples):\n",
    "   \n",
    "    clustering = DBSCAN(eps=epsilon, min_samples=min_samples).fit(dataframe)\n",
    "    dataframe[\"dbs\"] = clustering.labels_\n",
    "    labels =dataframe[\"dbs\"]\n",
    "    n_clusters_ = len(set(labels)) - (1 if -1 in labels else 0)\n",
    "    n_noise_ = list(labels).count(-1)\n",
    "    silhouetteScore = silhouette_score(dataframe, labels)\n",
    "#     print(\"Estimated number of clusters: %d\" % n_clusters_)\n",
    "#     print(\"Estimated number of noise points: %d\" % n_noise_)\n",
    "#     print(\"Silhouette Coefficient: %0.3f\" % silhouette_score(dataframe, labels))\n",
    "    return n_clusters_, n_noise_, silhouetteScore"
   ]
  },
  {
   "cell_type": "code",
   "execution_count": 6,
   "id": "7df99842",
   "metadata": {},
   "outputs": [],
   "source": [
    "def KMeans_clustering(dataframe,n_clusters):\n",
    "    kmeans = KMeans(n_clusters = n_clusters).fit(dataframe)\n",
    "    dataframe[\"kmeans\"] = kmeans.labels_\n",
    "    silhouetteScore = silhouette_score(dataframe, dataframe[\"kmeans\"])\n",
    "#     print(\"Silhouette Coefficient: %0.3f\" % silhouette_score(dataframe, dataframe[\"kmeans\"]))\n",
    "    return silhouetteScore  "
   ]
  },
  {
   "cell_type": "code",
   "execution_count": 7,
   "id": "da1d5671",
   "metadata": {},
   "outputs": [],
   "source": [
    "def Agglomerative_clustering(dataframe,n_clusters):\n",
    "    clustering = AgglomerativeClustering(n_clusters= n_clusters).fit(dataframe)\n",
    "    dataframe[\"hac\"]  = clustering.labels_\n",
    "    silhouetteScore = silhouette_score(dataframe, dataframe[\"hac\"] )\n",
    "#     print(\"Silhouette Coefficient: %0.3f\" % silhouette_score(dataframe, dataframe[\"hac\"] ))\n",
    "    return silhouetteScore  "
   ]
  },
  {
   "cell_type": "code",
   "execution_count": 8,
   "id": "5fbb892f",
   "metadata": {},
   "outputs": [],
   "source": [
    "def GaussianMixtures_clustering(dataframe,n_components):\n",
    "    gm = GaussianMixture(n_components = n_components).fit(dataframe)\n",
    "    dataframe[\"gm\"] = gm.predict(dataframe)  \n",
    "    silhouetteScore = silhouette_score(dataframe, dataframe[\"gm\"] )\n",
    "    \n",
    "#     print(\"Silhouette Coefficient: %0.3f\" % silhouette_score(dataframe, dataframe[\"gm\"]))\n",
    "    return silhouetteScore  "
   ]
  },
  {
   "cell_type": "markdown",
   "id": "7591e1e1",
   "metadata": {},
   "source": [
    "\n",
    "## PCA Function"
   ]
  },
  {
   "cell_type": "code",
   "execution_count": 9,
   "id": "16ddc919",
   "metadata": {},
   "outputs": [],
   "source": [
    "def pca_component(dataframe,n_components):\n",
    "    pca = PCA(n_components = n_components)\n",
    "    PCA_transformed_data = pca.fit_transform(dataframe)\n",
    "    PCA_df = pd.DataFrame(data = PCA_transformed_data)\n",
    "    return PCA_df"
   ]
  },
  {
   "cell_type": "markdown",
   "id": "73e60dec",
   "metadata": {},
   "source": [
    "## \n",
    "## Exploring"
   ]
  },
  {
   "cell_type": "code",
   "execution_count": 10,
   "id": "e76229dd",
   "metadata": {},
   "outputs": [
    {
     "data": {
      "text/html": [
       "<div>\n",
       "<style scoped>\n",
       "    .dataframe tbody tr th:only-of-type {\n",
       "        vertical-align: middle;\n",
       "    }\n",
       "\n",
       "    .dataframe tbody tr th {\n",
       "        vertical-align: top;\n",
       "    }\n",
       "\n",
       "    .dataframe thead th {\n",
       "        text-align: right;\n",
       "    }\n",
       "</style>\n",
       "<table border=\"1\" class=\"dataframe\">\n",
       "  <thead>\n",
       "    <tr style=\"text-align: right;\">\n",
       "      <th></th>\n",
       "      <th>CUST_ID</th>\n",
       "      <th>BALANCE</th>\n",
       "      <th>BALANCE_FREQUENCY</th>\n",
       "      <th>PURCHASES</th>\n",
       "      <th>ONEOFF_PURCHASES</th>\n",
       "      <th>INSTALLMENTS_PURCHASES</th>\n",
       "      <th>CASH_ADVANCE</th>\n",
       "      <th>PURCHASES_FREQUENCY</th>\n",
       "      <th>ONEOFF_PURCHASES_FREQUENCY</th>\n",
       "      <th>PURCHASES_INSTALLMENTS_FREQUENCY</th>\n",
       "      <th>CASH_ADVANCE_FREQUENCY</th>\n",
       "      <th>CASH_ADVANCE_TRX</th>\n",
       "      <th>PURCHASES_TRX</th>\n",
       "      <th>CREDIT_LIMIT</th>\n",
       "      <th>PAYMENTS</th>\n",
       "      <th>MINIMUM_PAYMENTS</th>\n",
       "      <th>PRC_FULL_PAYMENT</th>\n",
       "      <th>TENURE</th>\n",
       "    </tr>\n",
       "  </thead>\n",
       "  <tbody>\n",
       "    <tr>\n",
       "      <th>0</th>\n",
       "      <td>C10001</td>\n",
       "      <td>40.900749</td>\n",
       "      <td>0.818182</td>\n",
       "      <td>95.40</td>\n",
       "      <td>0.00</td>\n",
       "      <td>95.4</td>\n",
       "      <td>0.000000</td>\n",
       "      <td>0.166667</td>\n",
       "      <td>0.000000</td>\n",
       "      <td>0.083333</td>\n",
       "      <td>0.000000</td>\n",
       "      <td>0</td>\n",
       "      <td>2</td>\n",
       "      <td>1000.0</td>\n",
       "      <td>201.802084</td>\n",
       "      <td>139.509787</td>\n",
       "      <td>0.000000</td>\n",
       "      <td>12</td>\n",
       "    </tr>\n",
       "    <tr>\n",
       "      <th>1</th>\n",
       "      <td>C10002</td>\n",
       "      <td>3202.467416</td>\n",
       "      <td>0.909091</td>\n",
       "      <td>0.00</td>\n",
       "      <td>0.00</td>\n",
       "      <td>0.0</td>\n",
       "      <td>6442.945483</td>\n",
       "      <td>0.000000</td>\n",
       "      <td>0.000000</td>\n",
       "      <td>0.000000</td>\n",
       "      <td>0.250000</td>\n",
       "      <td>4</td>\n",
       "      <td>0</td>\n",
       "      <td>7000.0</td>\n",
       "      <td>4103.032597</td>\n",
       "      <td>1072.340217</td>\n",
       "      <td>0.222222</td>\n",
       "      <td>12</td>\n",
       "    </tr>\n",
       "    <tr>\n",
       "      <th>2</th>\n",
       "      <td>C10003</td>\n",
       "      <td>2495.148862</td>\n",
       "      <td>1.000000</td>\n",
       "      <td>773.17</td>\n",
       "      <td>773.17</td>\n",
       "      <td>0.0</td>\n",
       "      <td>0.000000</td>\n",
       "      <td>1.000000</td>\n",
       "      <td>1.000000</td>\n",
       "      <td>0.000000</td>\n",
       "      <td>0.000000</td>\n",
       "      <td>0</td>\n",
       "      <td>12</td>\n",
       "      <td>7500.0</td>\n",
       "      <td>622.066742</td>\n",
       "      <td>627.284787</td>\n",
       "      <td>0.000000</td>\n",
       "      <td>12</td>\n",
       "    </tr>\n",
       "    <tr>\n",
       "      <th>3</th>\n",
       "      <td>C10004</td>\n",
       "      <td>1666.670542</td>\n",
       "      <td>0.636364</td>\n",
       "      <td>1499.00</td>\n",
       "      <td>1499.00</td>\n",
       "      <td>0.0</td>\n",
       "      <td>205.788017</td>\n",
       "      <td>0.083333</td>\n",
       "      <td>0.083333</td>\n",
       "      <td>0.000000</td>\n",
       "      <td>0.083333</td>\n",
       "      <td>1</td>\n",
       "      <td>1</td>\n",
       "      <td>7500.0</td>\n",
       "      <td>0.000000</td>\n",
       "      <td>NaN</td>\n",
       "      <td>0.000000</td>\n",
       "      <td>12</td>\n",
       "    </tr>\n",
       "    <tr>\n",
       "      <th>4</th>\n",
       "      <td>C10005</td>\n",
       "      <td>817.714335</td>\n",
       "      <td>1.000000</td>\n",
       "      <td>16.00</td>\n",
       "      <td>16.00</td>\n",
       "      <td>0.0</td>\n",
       "      <td>0.000000</td>\n",
       "      <td>0.083333</td>\n",
       "      <td>0.083333</td>\n",
       "      <td>0.000000</td>\n",
       "      <td>0.000000</td>\n",
       "      <td>0</td>\n",
       "      <td>1</td>\n",
       "      <td>1200.0</td>\n",
       "      <td>678.334763</td>\n",
       "      <td>244.791237</td>\n",
       "      <td>0.000000</td>\n",
       "      <td>12</td>\n",
       "    </tr>\n",
       "  </tbody>\n",
       "</table>\n",
       "</div>"
      ],
      "text/plain": [
       "  CUST_ID      BALANCE  BALANCE_FREQUENCY  PURCHASES  ONEOFF_PURCHASES  \\\n",
       "0  C10001    40.900749           0.818182      95.40              0.00   \n",
       "1  C10002  3202.467416           0.909091       0.00              0.00   \n",
       "2  C10003  2495.148862           1.000000     773.17            773.17   \n",
       "3  C10004  1666.670542           0.636364    1499.00           1499.00   \n",
       "4  C10005   817.714335           1.000000      16.00             16.00   \n",
       "\n",
       "   INSTALLMENTS_PURCHASES  CASH_ADVANCE  PURCHASES_FREQUENCY  \\\n",
       "0                    95.4      0.000000             0.166667   \n",
       "1                     0.0   6442.945483             0.000000   \n",
       "2                     0.0      0.000000             1.000000   \n",
       "3                     0.0    205.788017             0.083333   \n",
       "4                     0.0      0.000000             0.083333   \n",
       "\n",
       "   ONEOFF_PURCHASES_FREQUENCY  PURCHASES_INSTALLMENTS_FREQUENCY  \\\n",
       "0                    0.000000                          0.083333   \n",
       "1                    0.000000                          0.000000   \n",
       "2                    1.000000                          0.000000   \n",
       "3                    0.083333                          0.000000   \n",
       "4                    0.083333                          0.000000   \n",
       "\n",
       "   CASH_ADVANCE_FREQUENCY  CASH_ADVANCE_TRX  PURCHASES_TRX  CREDIT_LIMIT  \\\n",
       "0                0.000000                 0              2        1000.0   \n",
       "1                0.250000                 4              0        7000.0   \n",
       "2                0.000000                 0             12        7500.0   \n",
       "3                0.083333                 1              1        7500.0   \n",
       "4                0.000000                 0              1        1200.0   \n",
       "\n",
       "      PAYMENTS  MINIMUM_PAYMENTS  PRC_FULL_PAYMENT  TENURE  \n",
       "0   201.802084        139.509787          0.000000      12  \n",
       "1  4103.032597       1072.340217          0.222222      12  \n",
       "2   622.066742        627.284787          0.000000      12  \n",
       "3     0.000000               NaN          0.000000      12  \n",
       "4   678.334763        244.791237          0.000000      12  "
      ]
     },
     "execution_count": 10,
     "metadata": {},
     "output_type": "execute_result"
    }
   ],
   "source": [
    "df = pd.read_csv('CC GENERAL.csv')\n",
    "df.head()"
   ]
  },
  {
   "cell_type": "code",
   "execution_count": 45,
   "id": "ceb8b1ef",
   "metadata": {},
   "outputs": [
    {
     "data": {
      "text/plain": [
       "(8950, 18)"
      ]
     },
     "execution_count": 45,
     "metadata": {},
     "output_type": "execute_result"
    }
   ],
   "source": [
    "df.shape"
   ]
  },
  {
   "cell_type": "code",
   "execution_count": 11,
   "id": "efa1aa66",
   "metadata": {},
   "outputs": [
    {
     "name": "stdout",
     "output_type": "stream",
     "text": [
      "<class 'pandas.core.frame.DataFrame'>\n",
      "RangeIndex: 8950 entries, 0 to 8949\n",
      "Data columns (total 18 columns):\n",
      " #   Column                            Non-Null Count  Dtype  \n",
      "---  ------                            --------------  -----  \n",
      " 0   CUST_ID                           8950 non-null   object \n",
      " 1   BALANCE                           8950 non-null   float64\n",
      " 2   BALANCE_FREQUENCY                 8950 non-null   float64\n",
      " 3   PURCHASES                         8950 non-null   float64\n",
      " 4   ONEOFF_PURCHASES                  8950 non-null   float64\n",
      " 5   INSTALLMENTS_PURCHASES            8950 non-null   float64\n",
      " 6   CASH_ADVANCE                      8950 non-null   float64\n",
      " 7   PURCHASES_FREQUENCY               8950 non-null   float64\n",
      " 8   ONEOFF_PURCHASES_FREQUENCY        8950 non-null   float64\n",
      " 9   PURCHASES_INSTALLMENTS_FREQUENCY  8950 non-null   float64\n",
      " 10  CASH_ADVANCE_FREQUENCY            8950 non-null   float64\n",
      " 11  CASH_ADVANCE_TRX                  8950 non-null   int64  \n",
      " 12  PURCHASES_TRX                     8950 non-null   int64  \n",
      " 13  CREDIT_LIMIT                      8949 non-null   float64\n",
      " 14  PAYMENTS                          8950 non-null   float64\n",
      " 15  MINIMUM_PAYMENTS                  8637 non-null   float64\n",
      " 16  PRC_FULL_PAYMENT                  8950 non-null   float64\n",
      " 17  TENURE                            8950 non-null   int64  \n",
      "dtypes: float64(14), int64(3), object(1)\n",
      "memory usage: 1.2+ MB\n"
     ]
    }
   ],
   "source": [
    "df.info()"
   ]
  },
  {
   "cell_type": "code",
   "execution_count": 12,
   "id": "d1850600",
   "metadata": {},
   "outputs": [
    {
     "data": {
      "text/plain": [
       "CUST_ID                               0\n",
       "BALANCE                               0\n",
       "BALANCE_FREQUENCY                     0\n",
       "PURCHASES                             0\n",
       "ONEOFF_PURCHASES                      0\n",
       "INSTALLMENTS_PURCHASES                0\n",
       "CASH_ADVANCE                          0\n",
       "PURCHASES_FREQUENCY                   0\n",
       "ONEOFF_PURCHASES_FREQUENCY            0\n",
       "PURCHASES_INSTALLMENTS_FREQUENCY      0\n",
       "CASH_ADVANCE_FREQUENCY                0\n",
       "CASH_ADVANCE_TRX                      0\n",
       "PURCHASES_TRX                         0\n",
       "CREDIT_LIMIT                          1\n",
       "PAYMENTS                              0\n",
       "MINIMUM_PAYMENTS                    313\n",
       "PRC_FULL_PAYMENT                      0\n",
       "TENURE                                0\n",
       "dtype: int64"
      ]
     },
     "execution_count": 12,
     "metadata": {},
     "output_type": "execute_result"
    }
   ],
   "source": [
    "df.isnull().sum()"
   ]
  },
  {
   "cell_type": "code",
   "execution_count": 13,
   "id": "edcb01f6",
   "metadata": {},
   "outputs": [
    {
     "data": {
      "text/html": [
       "<div>\n",
       "<style scoped>\n",
       "    .dataframe tbody tr th:only-of-type {\n",
       "        vertical-align: middle;\n",
       "    }\n",
       "\n",
       "    .dataframe tbody tr th {\n",
       "        vertical-align: top;\n",
       "    }\n",
       "\n",
       "    .dataframe thead th {\n",
       "        text-align: right;\n",
       "    }\n",
       "</style>\n",
       "<table border=\"1\" class=\"dataframe\">\n",
       "  <thead>\n",
       "    <tr style=\"text-align: right;\">\n",
       "      <th></th>\n",
       "      <th>BALANCE</th>\n",
       "      <th>BALANCE_FREQUENCY</th>\n",
       "      <th>PURCHASES</th>\n",
       "      <th>ONEOFF_PURCHASES</th>\n",
       "      <th>INSTALLMENTS_PURCHASES</th>\n",
       "      <th>CASH_ADVANCE</th>\n",
       "      <th>PURCHASES_FREQUENCY</th>\n",
       "      <th>ONEOFF_PURCHASES_FREQUENCY</th>\n",
       "      <th>PURCHASES_INSTALLMENTS_FREQUENCY</th>\n",
       "      <th>CASH_ADVANCE_FREQUENCY</th>\n",
       "      <th>CASH_ADVANCE_TRX</th>\n",
       "      <th>PURCHASES_TRX</th>\n",
       "      <th>CREDIT_LIMIT</th>\n",
       "      <th>PAYMENTS</th>\n",
       "      <th>MINIMUM_PAYMENTS</th>\n",
       "      <th>PRC_FULL_PAYMENT</th>\n",
       "      <th>TENURE</th>\n",
       "    </tr>\n",
       "  </thead>\n",
       "  <tbody>\n",
       "    <tr>\n",
       "      <th>count</th>\n",
       "      <td>8950.000000</td>\n",
       "      <td>8950.000000</td>\n",
       "      <td>8950.000000</td>\n",
       "      <td>8950.000000</td>\n",
       "      <td>8950.000000</td>\n",
       "      <td>8950.000000</td>\n",
       "      <td>8950.000000</td>\n",
       "      <td>8950.000000</td>\n",
       "      <td>8950.000000</td>\n",
       "      <td>8950.000000</td>\n",
       "      <td>8950.000000</td>\n",
       "      <td>8950.000000</td>\n",
       "      <td>8949.000000</td>\n",
       "      <td>8950.000000</td>\n",
       "      <td>8637.000000</td>\n",
       "      <td>8950.000000</td>\n",
       "      <td>8950.000000</td>\n",
       "    </tr>\n",
       "    <tr>\n",
       "      <th>mean</th>\n",
       "      <td>1564.474828</td>\n",
       "      <td>0.877271</td>\n",
       "      <td>1003.204834</td>\n",
       "      <td>592.437371</td>\n",
       "      <td>411.067645</td>\n",
       "      <td>978.871112</td>\n",
       "      <td>0.490351</td>\n",
       "      <td>0.202458</td>\n",
       "      <td>0.364437</td>\n",
       "      <td>0.135144</td>\n",
       "      <td>3.248827</td>\n",
       "      <td>14.709832</td>\n",
       "      <td>4494.449450</td>\n",
       "      <td>1733.143852</td>\n",
       "      <td>864.206542</td>\n",
       "      <td>0.153715</td>\n",
       "      <td>11.517318</td>\n",
       "    </tr>\n",
       "    <tr>\n",
       "      <th>std</th>\n",
       "      <td>2081.531879</td>\n",
       "      <td>0.236904</td>\n",
       "      <td>2136.634782</td>\n",
       "      <td>1659.887917</td>\n",
       "      <td>904.338115</td>\n",
       "      <td>2097.163877</td>\n",
       "      <td>0.401371</td>\n",
       "      <td>0.298336</td>\n",
       "      <td>0.397448</td>\n",
       "      <td>0.200121</td>\n",
       "      <td>6.824647</td>\n",
       "      <td>24.857649</td>\n",
       "      <td>3638.815725</td>\n",
       "      <td>2895.063757</td>\n",
       "      <td>2372.446607</td>\n",
       "      <td>0.292499</td>\n",
       "      <td>1.338331</td>\n",
       "    </tr>\n",
       "    <tr>\n",
       "      <th>min</th>\n",
       "      <td>0.000000</td>\n",
       "      <td>0.000000</td>\n",
       "      <td>0.000000</td>\n",
       "      <td>0.000000</td>\n",
       "      <td>0.000000</td>\n",
       "      <td>0.000000</td>\n",
       "      <td>0.000000</td>\n",
       "      <td>0.000000</td>\n",
       "      <td>0.000000</td>\n",
       "      <td>0.000000</td>\n",
       "      <td>0.000000</td>\n",
       "      <td>0.000000</td>\n",
       "      <td>50.000000</td>\n",
       "      <td>0.000000</td>\n",
       "      <td>0.019163</td>\n",
       "      <td>0.000000</td>\n",
       "      <td>6.000000</td>\n",
       "    </tr>\n",
       "    <tr>\n",
       "      <th>25%</th>\n",
       "      <td>128.281915</td>\n",
       "      <td>0.888889</td>\n",
       "      <td>39.635000</td>\n",
       "      <td>0.000000</td>\n",
       "      <td>0.000000</td>\n",
       "      <td>0.000000</td>\n",
       "      <td>0.083333</td>\n",
       "      <td>0.000000</td>\n",
       "      <td>0.000000</td>\n",
       "      <td>0.000000</td>\n",
       "      <td>0.000000</td>\n",
       "      <td>1.000000</td>\n",
       "      <td>1600.000000</td>\n",
       "      <td>383.276166</td>\n",
       "      <td>169.123707</td>\n",
       "      <td>0.000000</td>\n",
       "      <td>12.000000</td>\n",
       "    </tr>\n",
       "    <tr>\n",
       "      <th>50%</th>\n",
       "      <td>873.385231</td>\n",
       "      <td>1.000000</td>\n",
       "      <td>361.280000</td>\n",
       "      <td>38.000000</td>\n",
       "      <td>89.000000</td>\n",
       "      <td>0.000000</td>\n",
       "      <td>0.500000</td>\n",
       "      <td>0.083333</td>\n",
       "      <td>0.166667</td>\n",
       "      <td>0.000000</td>\n",
       "      <td>0.000000</td>\n",
       "      <td>7.000000</td>\n",
       "      <td>3000.000000</td>\n",
       "      <td>856.901546</td>\n",
       "      <td>312.343947</td>\n",
       "      <td>0.000000</td>\n",
       "      <td>12.000000</td>\n",
       "    </tr>\n",
       "    <tr>\n",
       "      <th>75%</th>\n",
       "      <td>2054.140036</td>\n",
       "      <td>1.000000</td>\n",
       "      <td>1110.130000</td>\n",
       "      <td>577.405000</td>\n",
       "      <td>468.637500</td>\n",
       "      <td>1113.821139</td>\n",
       "      <td>0.916667</td>\n",
       "      <td>0.300000</td>\n",
       "      <td>0.750000</td>\n",
       "      <td>0.222222</td>\n",
       "      <td>4.000000</td>\n",
       "      <td>17.000000</td>\n",
       "      <td>6500.000000</td>\n",
       "      <td>1901.134317</td>\n",
       "      <td>825.485459</td>\n",
       "      <td>0.142857</td>\n",
       "      <td>12.000000</td>\n",
       "    </tr>\n",
       "    <tr>\n",
       "      <th>max</th>\n",
       "      <td>19043.138560</td>\n",
       "      <td>1.000000</td>\n",
       "      <td>49039.570000</td>\n",
       "      <td>40761.250000</td>\n",
       "      <td>22500.000000</td>\n",
       "      <td>47137.211760</td>\n",
       "      <td>1.000000</td>\n",
       "      <td>1.000000</td>\n",
       "      <td>1.000000</td>\n",
       "      <td>1.500000</td>\n",
       "      <td>123.000000</td>\n",
       "      <td>358.000000</td>\n",
       "      <td>30000.000000</td>\n",
       "      <td>50721.483360</td>\n",
       "      <td>76406.207520</td>\n",
       "      <td>1.000000</td>\n",
       "      <td>12.000000</td>\n",
       "    </tr>\n",
       "  </tbody>\n",
       "</table>\n",
       "</div>"
      ],
      "text/plain": [
       "            BALANCE  BALANCE_FREQUENCY     PURCHASES  ONEOFF_PURCHASES  \\\n",
       "count   8950.000000        8950.000000   8950.000000       8950.000000   \n",
       "mean    1564.474828           0.877271   1003.204834        592.437371   \n",
       "std     2081.531879           0.236904   2136.634782       1659.887917   \n",
       "min        0.000000           0.000000      0.000000          0.000000   \n",
       "25%      128.281915           0.888889     39.635000          0.000000   \n",
       "50%      873.385231           1.000000    361.280000         38.000000   \n",
       "75%     2054.140036           1.000000   1110.130000        577.405000   \n",
       "max    19043.138560           1.000000  49039.570000      40761.250000   \n",
       "\n",
       "       INSTALLMENTS_PURCHASES  CASH_ADVANCE  PURCHASES_FREQUENCY  \\\n",
       "count             8950.000000   8950.000000          8950.000000   \n",
       "mean               411.067645    978.871112             0.490351   \n",
       "std                904.338115   2097.163877             0.401371   \n",
       "min                  0.000000      0.000000             0.000000   \n",
       "25%                  0.000000      0.000000             0.083333   \n",
       "50%                 89.000000      0.000000             0.500000   \n",
       "75%                468.637500   1113.821139             0.916667   \n",
       "max              22500.000000  47137.211760             1.000000   \n",
       "\n",
       "       ONEOFF_PURCHASES_FREQUENCY  PURCHASES_INSTALLMENTS_FREQUENCY  \\\n",
       "count                 8950.000000                       8950.000000   \n",
       "mean                     0.202458                          0.364437   \n",
       "std                      0.298336                          0.397448   \n",
       "min                      0.000000                          0.000000   \n",
       "25%                      0.000000                          0.000000   \n",
       "50%                      0.083333                          0.166667   \n",
       "75%                      0.300000                          0.750000   \n",
       "max                      1.000000                          1.000000   \n",
       "\n",
       "       CASH_ADVANCE_FREQUENCY  CASH_ADVANCE_TRX  PURCHASES_TRX  CREDIT_LIMIT  \\\n",
       "count             8950.000000       8950.000000    8950.000000   8949.000000   \n",
       "mean                 0.135144          3.248827      14.709832   4494.449450   \n",
       "std                  0.200121          6.824647      24.857649   3638.815725   \n",
       "min                  0.000000          0.000000       0.000000     50.000000   \n",
       "25%                  0.000000          0.000000       1.000000   1600.000000   \n",
       "50%                  0.000000          0.000000       7.000000   3000.000000   \n",
       "75%                  0.222222          4.000000      17.000000   6500.000000   \n",
       "max                  1.500000        123.000000     358.000000  30000.000000   \n",
       "\n",
       "           PAYMENTS  MINIMUM_PAYMENTS  PRC_FULL_PAYMENT       TENURE  \n",
       "count   8950.000000       8637.000000       8950.000000  8950.000000  \n",
       "mean    1733.143852        864.206542          0.153715    11.517318  \n",
       "std     2895.063757       2372.446607          0.292499     1.338331  \n",
       "min        0.000000          0.019163          0.000000     6.000000  \n",
       "25%      383.276166        169.123707          0.000000    12.000000  \n",
       "50%      856.901546        312.343947          0.000000    12.000000  \n",
       "75%     1901.134317        825.485459          0.142857    12.000000  \n",
       "max    50721.483360      76406.207520          1.000000    12.000000  "
      ]
     },
     "execution_count": 13,
     "metadata": {},
     "output_type": "execute_result"
    }
   ],
   "source": [
    "df.describe()"
   ]
  },
  {
   "cell_type": "code",
   "execution_count": 14,
   "id": "fd51e97f",
   "metadata": {},
   "outputs": [
    {
     "data": {
      "text/plain": [
       "array([[<AxesSubplot:title={'center':'CREDIT_LIMIT'}>,\n",
       "        <AxesSubplot:title={'center':'MINIMUM_PAYMENTS'}>]], dtype=object)"
      ]
     },
     "execution_count": 14,
     "metadata": {},
     "output_type": "execute_result"
    },
    {
     "data": {
      "image/png": "[encoded data removed]",
      "text/plain": [
       "<Figure size 432x288 with 2 Axes>"
      ]
     },
     "metadata": {
      "needs_background": "light"
     },
     "output_type": "display_data"
    }
   ],
   "source": [
    "df.hist(['CREDIT_LIMIT','MINIMUM_PAYMENTS'])"
   ]
  },
  {
   "cell_type": "code",
   "execution_count": 15,
   "id": "381a5992",
   "metadata": {},
   "outputs": [
    {
     "data": {
      "text/plain": [
       "<AxesSubplot:>"
      ]
     },
     "execution_count": 15,
     "metadata": {},
     "output_type": "execute_result"
    },
    {
     "data": {
      "image/png": "[encoded data removed]",
      "text/plain": [
       "<Figure size 432x288 with 1 Axes>"
      ]
     },
     "metadata": {
      "needs_background": "light"
     },
     "output_type": "display_data"
    }
   ],
   "source": [
    "df.boxplot(['CREDIT_LIMIT','MINIMUM_PAYMENTS'])"
   ]
  },
  {
   "cell_type": "markdown",
   "id": "60c13d9a",
   "metadata": {},
   "source": [
    "## \n",
    "## Preprocessing"
   ]
  },
  {
   "cell_type": "code",
   "execution_count": 16,
   "id": "0f9d53e9",
   "metadata": {},
   "outputs": [],
   "source": [
    "df_copy = df.copy()\n",
    "column = ['CREDIT_LIMIT','MINIMUM_PAYMENTS']\n",
    "df_copy[column] = df_copy[column].fillna(df_copy[column].median())"
   ]
  },
  {
   "cell_type": "code",
   "execution_count": 17,
   "id": "19aa3339",
   "metadata": {},
   "outputs": [],
   "source": [
    "df_copy.drop('CUST_ID', inplace=True, axis=1)"
   ]
  },
  {
   "cell_type": "code",
   "execution_count": 18,
   "id": "5130efff",
   "metadata": {},
   "outputs": [
    {
     "name": "stdout",
     "output_type": "stream",
     "text": [
      "<class 'pandas.core.frame.DataFrame'>\n",
      "RangeIndex: 8950 entries, 0 to 8949\n",
      "Data columns (total 17 columns):\n",
      " #   Column                            Non-Null Count  Dtype  \n",
      "---  ------                            --------------  -----  \n",
      " 0   BALANCE                           8950 non-null   float64\n",
      " 1   BALANCE_FREQUENCY                 8950 non-null   float64\n",
      " 2   PURCHASES                         8950 non-null   float64\n",
      " 3   ONEOFF_PURCHASES                  8950 non-null   float64\n",
      " 4   INSTALLMENTS_PURCHASES            8950 non-null   float64\n",
      " 5   CASH_ADVANCE                      8950 non-null   float64\n",
      " 6   PURCHASES_FREQUENCY               8950 non-null   float64\n",
      " 7   ONEOFF_PURCHASES_FREQUENCY        8950 non-null   float64\n",
      " 8   PURCHASES_INSTALLMENTS_FREQUENCY  8950 non-null   float64\n",
      " 9   CASH_ADVANCE_FREQUENCY            8950 non-null   float64\n",
      " 10  CASH_ADVANCE_TRX                  8950 non-null   int64  \n",
      " 11  PURCHASES_TRX                     8950 non-null   int64  \n",
      " 12  CREDIT_LIMIT                      8950 non-null   float64\n",
      " 13  PAYMENTS                          8950 non-null   float64\n",
      " 14  MINIMUM_PAYMENTS                  8950 non-null   float64\n",
      " 15  PRC_FULL_PAYMENT                  8950 non-null   float64\n",
      " 16  TENURE                            8950 non-null   int64  \n",
      "dtypes: float64(14), int64(3)\n",
      "memory usage: 1.2 MB\n"
     ]
    }
   ],
   "source": [
    "df_copy.info()"
   ]
  },
  {
   "cell_type": "markdown",
   "id": "9ad875d1",
   "metadata": {},
   "source": [
    "## \n",
    "## Normalize the data"
   ]
  },
  {
   "cell_type": "code",
   "execution_count": 19,
   "id": "3295486b",
   "metadata": {},
   "outputs": [
    {
     "data": {
      "text/html": [
       "<div>\n",
       "<style scoped>\n",
       "    .dataframe tbody tr th:only-of-type {\n",
       "        vertical-align: middle;\n",
       "    }\n",
       "\n",
       "    .dataframe tbody tr th {\n",
       "        vertical-align: top;\n",
       "    }\n",
       "\n",
       "    .dataframe thead th {\n",
       "        text-align: right;\n",
       "    }\n",
       "</style>\n",
       "<table border=\"1\" class=\"dataframe\">\n",
       "  <thead>\n",
       "    <tr style=\"text-align: right;\">\n",
       "      <th></th>\n",
       "      <th>0</th>\n",
       "      <th>1</th>\n",
       "      <th>2</th>\n",
       "      <th>3</th>\n",
       "      <th>4</th>\n",
       "      <th>5</th>\n",
       "      <th>6</th>\n",
       "      <th>7</th>\n",
       "      <th>8</th>\n",
       "      <th>9</th>\n",
       "      <th>10</th>\n",
       "      <th>11</th>\n",
       "      <th>12</th>\n",
       "      <th>13</th>\n",
       "      <th>14</th>\n",
       "      <th>15</th>\n",
       "      <th>16</th>\n",
       "    </tr>\n",
       "  </thead>\n",
       "  <tbody>\n",
       "    <tr>\n",
       "      <th>0</th>\n",
       "      <td>0.039353</td>\n",
       "      <td>0.000787</td>\n",
       "      <td>0.091790</td>\n",
       "      <td>0.000000</td>\n",
       "      <td>0.09179</td>\n",
       "      <td>0.000000</td>\n",
       "      <td>0.000160</td>\n",
       "      <td>0.000000</td>\n",
       "      <td>0.00008</td>\n",
       "      <td>0.000000</td>\n",
       "      <td>0.000000</td>\n",
       "      <td>0.001924</td>\n",
       "      <td>0.962156</td>\n",
       "      <td>0.194165</td>\n",
       "      <td>0.134230</td>\n",
       "      <td>0.00000</td>\n",
       "      <td>0.011546</td>\n",
       "    </tr>\n",
       "    <tr>\n",
       "      <th>1</th>\n",
       "      <td>0.293876</td>\n",
       "      <td>0.000083</td>\n",
       "      <td>0.000000</td>\n",
       "      <td>0.000000</td>\n",
       "      <td>0.00000</td>\n",
       "      <td>0.591240</td>\n",
       "      <td>0.000000</td>\n",
       "      <td>0.000000</td>\n",
       "      <td>0.00000</td>\n",
       "      <td>0.000023</td>\n",
       "      <td>0.000367</td>\n",
       "      <td>0.000000</td>\n",
       "      <td>0.642358</td>\n",
       "      <td>0.376516</td>\n",
       "      <td>0.098404</td>\n",
       "      <td>0.00002</td>\n",
       "      <td>0.001101</td>\n",
       "    </tr>\n",
       "    <tr>\n",
       "      <th>2</th>\n",
       "      <td>0.310798</td>\n",
       "      <td>0.000125</td>\n",
       "      <td>0.096307</td>\n",
       "      <td>0.096307</td>\n",
       "      <td>0.00000</td>\n",
       "      <td>0.000000</td>\n",
       "      <td>0.000125</td>\n",
       "      <td>0.000125</td>\n",
       "      <td>0.00000</td>\n",
       "      <td>0.000000</td>\n",
       "      <td>0.000000</td>\n",
       "      <td>0.001495</td>\n",
       "      <td>0.934206</td>\n",
       "      <td>0.077485</td>\n",
       "      <td>0.078135</td>\n",
       "      <td>0.00000</td>\n",
       "      <td>0.001495</td>\n",
       "    </tr>\n",
       "    <tr>\n",
       "      <th>3</th>\n",
       "      <td>0.208886</td>\n",
       "      <td>0.000080</td>\n",
       "      <td>0.187872</td>\n",
       "      <td>0.187872</td>\n",
       "      <td>0.00000</td>\n",
       "      <td>0.025792</td>\n",
       "      <td>0.000010</td>\n",
       "      <td>0.000010</td>\n",
       "      <td>0.00000</td>\n",
       "      <td>0.000010</td>\n",
       "      <td>0.000125</td>\n",
       "      <td>0.000125</td>\n",
       "      <td>0.939987</td>\n",
       "      <td>0.000000</td>\n",
       "      <td>0.039147</td>\n",
       "      <td>0.00000</td>\n",
       "      <td>0.001504</td>\n",
       "    </tr>\n",
       "    <tr>\n",
       "      <th>4</th>\n",
       "      <td>0.504284</td>\n",
       "      <td>0.000617</td>\n",
       "      <td>0.009867</td>\n",
       "      <td>0.009867</td>\n",
       "      <td>0.00000</td>\n",
       "      <td>0.000000</td>\n",
       "      <td>0.000051</td>\n",
       "      <td>0.000051</td>\n",
       "      <td>0.00000</td>\n",
       "      <td>0.000000</td>\n",
       "      <td>0.000000</td>\n",
       "      <td>0.000617</td>\n",
       "      <td>0.740040</td>\n",
       "      <td>0.418329</td>\n",
       "      <td>0.150963</td>\n",
       "      <td>0.00000</td>\n",
       "      <td>0.007400</td>\n",
       "    </tr>\n",
       "  </tbody>\n",
       "</table>\n",
       "</div>"
      ],
      "text/plain": [
       "         0         1         2         3        4         5         6   \\\n",
       "0  0.039353  0.000787  0.091790  0.000000  0.09179  0.000000  0.000160   \n",
       "1  0.293876  0.000083  0.000000  0.000000  0.00000  0.591240  0.000000   \n",
       "2  0.310798  0.000125  0.096307  0.096307  0.00000  0.000000  0.000125   \n",
       "3  0.208886  0.000080  0.187872  0.187872  0.00000  0.025792  0.000010   \n",
       "4  0.504284  0.000617  0.009867  0.009867  0.00000  0.000000  0.000051   \n",
       "\n",
       "         7        8         9         10        11        12        13  \\\n",
       "0  0.000000  0.00008  0.000000  0.000000  0.001924  0.962156  0.194165   \n",
       "1  0.000000  0.00000  0.000023  0.000367  0.000000  0.642358  0.376516   \n",
       "2  0.000125  0.00000  0.000000  0.000000  0.001495  0.934206  0.077485   \n",
       "3  0.000010  0.00000  0.000010  0.000125  0.000125  0.939987  0.000000   \n",
       "4  0.000051  0.00000  0.000000  0.000000  0.000617  0.740040  0.418329   \n",
       "\n",
       "         14       15        16  \n",
       "0  0.134230  0.00000  0.011546  \n",
       "1  0.098404  0.00002  0.001101  \n",
       "2  0.078135  0.00000  0.001495  \n",
       "3  0.039147  0.00000  0.001504  \n",
       "4  0.150963  0.00000  0.007400  "
      ]
     },
     "execution_count": 19,
     "metadata": {},
     "output_type": "execute_result"
    }
   ],
   "source": [
    "df_normalized = pd.DataFrame(preprocessing.normalize(df_copy))\n",
    "df_normalized.head()"
   ]
  },
  {
   "cell_type": "markdown",
   "id": "97fa7064",
   "metadata": {},
   "source": [
    "## \n",
    "## Choosing # of components graphically"
   ]
  },
  {
   "cell_type": "code",
   "execution_count": 20,
   "id": "3be1f9eb",
   "metadata": {},
   "outputs": [
    {
     "data": {
      "image/png": "[encoded data removed]",
      "text/plain": [
       "<Figure size 864x432 with 1 Axes>"
      ]
     },
     "metadata": {
      "needs_background": "light"
     },
     "output_type": "display_data"
    }
   ],
   "source": [
    "pca = PCA().fit(df_normalized)\n",
    "\n",
    "import matplotlib.pyplot as plt\n",
    "plt.rcParams[\"figure.figsize\"] = (12,6)\n",
    "\n",
    "fig, ax = plt.subplots()\n",
    "xi = np.arange(1, 18, step=1)\n",
    "y = np.cumsum(pca.explained_variance_ratio_)\n",
    "\n",
    "plt.ylim(0.0,1.1)\n",
    "plt.plot(xi, y, marker='o', linestyle='--', color='b')\n",
    "\n",
    "plt.xlabel('Number of Components')\n",
    "plt.xticks(np.arange(0, 18, step=1)) #change from 0-based array index to 1-based human-readable label\n",
    "plt.ylabel('Cumulative variance (%)')\n",
    "plt.title('The number of components needed to explain variance')\n",
    "\n",
    "plt.axhline(y=0.95, color='r', linestyle='-')\n",
    "plt.text(0.5, 0.85, '95% cut-off threshold', color = 'red', fontsize=16)\n",
    "\n",
    "ax.grid(axis='x')\n",
    "plt.show()"
   ]
  },
  {
   "cell_type": "markdown",
   "id": "7ad45856",
   "metadata": {},
   "source": [
    "## \n",
    "## Choosing # of components manually"
   ]
  },
  {
   "cell_type": "code",
   "execution_count": 21,
   "id": "64ba33b9",
   "metadata": {},
   "outputs": [
    {
     "name": "stdout",
     "output_type": "stream",
     "text": [
      "# of components: 3 silhouetteScore:  (2, 3, 0.5716000126691505)\n",
      "# of components: 4 silhouetteScore:  (2, 183, 0.5346633490476393)\n",
      "# of components: 5 silhouetteScore:  (3, 561, 0.527040055768746)\n",
      "# of components: 6 silhouetteScore:  (3, 996, 0.5159494997350991)\n",
      "# of components: 7 silhouetteScore:  (3, 1100, 0.5151481339642243)\n",
      "# of components: 8 silhouetteScore:  (3, 1101, 0.5151674832956061)\n",
      "# of components: 9 silhouetteScore:  (3, 1103, 0.5152009933915316)\n",
      "# of components: 10 silhouetteScore:  (3, 1104, 0.5152261739627668)\n",
      "# of components: 11 silhouetteScore:  (3, 1107, 0.5152108489631235)\n",
      "# of components: 12 silhouetteScore:  (3, 1107, 0.5152108189209716)\n",
      "# of components: 13 silhouetteScore:  (3, 1107, 0.5152108066144825)\n",
      "# of components: 14 silhouetteScore:  (3, 1107, 0.5152107941134902)\n",
      "# of components: 15 silhouetteScore:  (3, 1107, 0.5152107904957632)\n",
      "# of components: 16 silhouetteScore:  (3, 1107, 0.5152107896992969)\n"
     ]
    }
   ],
   "source": [
    "silhouettes = []\n",
    "for i in range(3,len(df_normalized.columns)):\n",
    "    PCA_df = pca_component(df_normalized,i)\n",
    "    silhouetteScore = DBSCAN_clustering(PCA_df,0.15,20)\n",
    "    silhouettes.append(silhouetteScore)\n",
    "    \n",
    "for i in range(len(silhouettes)):\n",
    "    print(\"# of components:\", i+3 , \"silhouetteScore: \", silhouettes[i])"
   ]
  },
  {
   "cell_type": "markdown",
   "id": "61152b39",
   "metadata": {},
   "source": [
    "### \n",
    "## 1) Applying pca with # of components = 3"
   ]
  },
  {
   "cell_type": "code",
   "execution_count": 22,
   "id": "9da402f2",
   "metadata": {},
   "outputs": [],
   "source": [
    "PCA_df = pca_component(df_normalized,3)"
   ]
  },
  {
   "cell_type": "code",
   "execution_count": 23,
   "id": "86604b2a",
   "metadata": {},
   "outputs": [
    {
     "data": {
      "text/plain": [
       "0.0753779437365332"
      ]
     },
     "execution_count": 23,
     "metadata": {},
     "output_type": "execute_result"
    }
   ],
   "source": [
    "epsilon = get_optimal_epsilon(PCA_df)\n",
    "epsilon"
   ]
  },
  {
   "cell_type": "code",
   "execution_count": 24,
   "id": "4ac66472",
   "metadata": {},
   "outputs": [
    {
     "name": "stdout",
     "output_type": "stream",
     "text": [
      "PCA with 3 components\n",
      "\n",
      "Estimated number of clusters: 9\n",
      "Estimated number of noise points: 502\n",
      "DBSCAN Silhouette Coefficient: 0.557\n"
     ]
    }
   ],
   "source": [
    "n_clusters_pca3, n_noise_pca3, dbscan_ss_pca3  = DBSCAN_clustering(PCA_df, epsilon=0.07, min_samples=10)\n",
    "print(\"PCA with 3 components\\n\")\n",
    "\n",
    "print(\"Estimated number of clusters: %d\" % n_clusters_pca3)\n",
    "print(\"Estimated number of noise points: %d\" % n_noise_pca3)\n",
    "print(\"DBSCAN Silhouette Coefficient: %0.3f\" % dbscan_ss_pca3)"
   ]
  },
  {
   "cell_type": "code",
   "execution_count": 25,
   "id": "6ef3e1bd",
   "metadata": {},
   "outputs": [
    {
     "data": {
      "image/png": "[encoded data removed]",
      "text/plain": [
       "<Figure size 864x432 with 2 Axes>"
      ]
     },
     "metadata": {},
     "output_type": "display_data"
    }
   ],
   "source": [
    "get_k_kmeans(PCA_df)"
   ]
  },
  {
   "cell_type": "code",
   "execution_count": 26,
   "id": "2f0cb8f5",
   "metadata": {},
   "outputs": [
    {
     "name": "stdout",
     "output_type": "stream",
     "text": [
      "Kmeans Silhouette Coefficient: 0.782\n"
     ]
    }
   ],
   "source": [
    "kmeans_ss_pca3 = KMeans_clustering(PCA_df, 5)\n",
    "print(\"Kmeans Silhouette Coefficient: %0.3f\" % kmeans_ss_pca3)"
   ]
  },
  {
   "cell_type": "code",
   "execution_count": 42,
   "id": "c2b3d811",
   "metadata": {},
   "outputs": [
    {
     "data": {
      "image/png": "[encoded data removed]",
      "text/plain": [
       "<Figure size 864x432 with 2 Axes>"
      ]
     },
     "metadata": {},
     "output_type": "display_data"
    }
   ],
   "source": [
    "get_k_agglomerative(PCA_df)"
   ]
  },
  {
   "cell_type": "code",
   "execution_count": 43,
   "id": "1fda8cc3",
   "metadata": {},
   "outputs": [
    {
     "name": "stdout",
     "output_type": "stream",
     "text": [
      "Agglomerative Silhouette Coefficient: 0.846\n"
     ]
    }
   ],
   "source": [
    "hac_ss_pca3 = Agglomerative_clustering(PCA_df, 4)\n",
    "print(\"Agglomerative Silhouette Coefficient: %0.3f\" % hac_ss_pca3)"
   ]
  },
  {
   "cell_type": "code",
   "execution_count": 29,
   "id": "29481a45",
   "metadata": {},
   "outputs": [
    {
     "name": "stdout",
     "output_type": "stream",
     "text": [
      "Gaussian Mixture Silhouette Coefficient: 0.900\n"
     ]
    }
   ],
   "source": [
    "gmm_ss_pca3 = GaussianMixtures_clustering(PCA_df, n_components = 6)\n",
    "print(\"Gaussian Mixture Silhouette Coefficient: %0.3f\" % gmm_ss_pca3)"
   ]
  },
  {
   "cell_type": "code",
   "execution_count": 44,
   "id": "e70bdde5",
   "metadata": {},
   "outputs": [
    {
     "name": "stdout",
     "output_type": "stream",
     "text": [
      "Silhouette Score For DBSCAN : 0.557\n",
      "Silhouette Score For Kmeans : 0.782\n",
      "Silhouette Score For Hierarchical Agglomerative : 0.846\n",
      "Silhouette Score For Gaussian Mixtures : 0.900\n"
     ]
    }
   ],
   "source": [
    "print(\"Silhouette Score For DBSCAN : %0.3f\" % dbscan_ss_pca3)\n",
    "print(\"Silhouette Score For Kmeans : %0.3f\" % kmeans_ss_pca3)\n",
    "print(\"Silhouette Score For Hierarchical Agglomerative : %0.3f\" % hac_ss_pca3)\n",
    "print(\"Silhouette Score For Gaussian Mixtures : %0.3f\" % gmm_ss_pca3)"
   ]
  },
  {
   "cell_type": "markdown",
   "id": "fd83daa2",
   "metadata": {},
   "source": [
    "### \n",
    "## 2) Applying pca with # of components = 6"
   ]
  },
  {
   "cell_type": "code",
   "execution_count": 31,
   "id": "ae810672",
   "metadata": {},
   "outputs": [],
   "source": [
    "PCA_df6 = pca_component(df_normalized,6)"
   ]
  },
  {
   "cell_type": "code",
   "execution_count": 32,
   "id": "1074aa4b",
   "metadata": {},
   "outputs": [
    {
     "data": {
      "text/plain": [
       "0.15072711115926973"
      ]
     },
     "execution_count": 32,
     "metadata": {},
     "output_type": "execute_result"
    }
   ],
   "source": [
    "epsilon = get_optimal_epsilon(PCA_df6)\n",
    "epsilon"
   ]
  },
  {
   "cell_type": "code",
   "execution_count": 33,
   "id": "7bf1c014",
   "metadata": {},
   "outputs": [
    {
     "name": "stdout",
     "output_type": "stream",
     "text": [
      "PCA with 6 components\n",
      "\n",
      "Estimated number of clusters: 3\n",
      "Estimated number of noise points: 996\n",
      "DBSCAN Silhouette Coefficient: 0.516\n"
     ]
    }
   ],
   "source": [
    "n_clusters_pca6, n_noise_pca6, dbscan_ss_pca6  = DBSCAN_clustering(PCA_df6, epsilon=0.15, min_samples=20)\n",
    "print(\"PCA with 6 components\\n\")\n",
    "\n",
    "print(\"Estimated number of clusters: %d\" % n_clusters_pca6)\n",
    "print(\"Estimated number of noise points: %d\" % n_noise_pca6)\n",
    "print(\"DBSCAN Silhouette Coefficient: %0.3f\" % dbscan_ss_pca6)"
   ]
  },
  {
   "cell_type": "code",
   "execution_count": 34,
   "id": "06a630ab",
   "metadata": {},
   "outputs": [
    {
     "data": {
      "image/png": "[encoded data removed]",
      "text/plain": [
       "<Figure size 864x432 with 2 Axes>"
      ]
     },
     "metadata": {},
     "output_type": "display_data"
    }
   ],
   "source": [
    "get_k_kmeans(PCA_df6)"
   ]
  },
  {
   "cell_type": "code",
   "execution_count": 35,
   "id": "fdb20dcb",
   "metadata": {},
   "outputs": [
    {
     "name": "stdout",
     "output_type": "stream",
     "text": [
      "Kmeans Silhouette Coefficient: 0.685\n"
     ]
    }
   ],
   "source": [
    "kmeans_ss_pca6 = KMeans_clustering(PCA_df6, 5)\n",
    "print(\"Kmeans Silhouette Coefficient: %0.3f\" % kmeans_ss_pca6)"
   ]
  },
  {
   "cell_type": "code",
   "execution_count": 36,
   "id": "16dd40ad",
   "metadata": {},
   "outputs": [
    {
     "data": {
      "image/png": "[encoded data removed]",
      "text/plain": [
       "<Figure size 864x432 with 2 Axes>"
      ]
     },
     "metadata": {},
     "output_type": "display_data"
    }
   ],
   "source": [
    "get_k_agglomerative(PCA_df6)"
   ]
  },
  {
   "cell_type": "code",
   "execution_count": 37,
   "id": "daeb638a",
   "metadata": {},
   "outputs": [
    {
     "name": "stdout",
     "output_type": "stream",
     "text": [
      "Agglomerative Silhouette Coefficient: 0.823\n"
     ]
    }
   ],
   "source": [
    "hac_ss_pca6 = Agglomerative_clustering(PCA_df6, 5)\n",
    "print(\"Agglomerative Silhouette Coefficient: %0.3f\" % hac_ss_pca6)"
   ]
  },
  {
   "cell_type": "code",
   "execution_count": 38,
   "id": "444ba551",
   "metadata": {},
   "outputs": [
    {
     "name": "stdout",
     "output_type": "stream",
     "text": [
      "Gaussian Mixture Silhouette Coefficient: 0.861\n"
     ]
    }
   ],
   "source": [
    "gmm_ss_pca6 = GaussianMixtures_clustering(PCA_df6, n_components = 5)\n",
    "print(\"Gaussian Mixture Silhouette Coefficient: %0.3f\" % gmm_ss_pca6)"
   ]
  },
  {
   "cell_type": "code",
   "execution_count": 39,
   "id": "6b6207cd",
   "metadata": {},
   "outputs": [
    {
     "name": "stdout",
     "output_type": "stream",
     "text": [
      "Silhouette Score For DBSCAN : 0.516\n",
      "Silhouette Score For Kmeans : 0.685\n",
      "Silhouette Score For Hierarchical Agglomerative : 0.823\n",
      "Silhouette Score For Gaussian Mixtures : 0.861\n"
     ]
    }
   ],
   "source": [
    "print(\"Silhouette Score For DBSCAN : %0.3f\" % dbscan_ss_pca6)\n",
    "print(\"Silhouette Score For Kmeans : %0.3f\" % kmeans_ss_pca6)\n",
    "print(\"Silhouette Score For Hierarchical Agglomerative : %0.3f\" % hac_ss_pca6)\n",
    "print(\"Silhouette Score For Gaussian Mixtures : %0.3f\" % gmm_ss_pca6)"
   ]
  },
  {
   "cell_type": "code",
   "execution_count": null,
   "id": "ae20de5f",
   "metadata": {},
   "outputs": [],
   "source": []
  }
 ],
 "metadata": {
  "kernelspec": {
   "display_name": "Python 3 (ipykernel)",
   "language": "python",
   "name": "python3"
  },
  "language_info": {
   "codemirror_mode": {
    "name": "ipython",
    "version": 3
   },
   "file_extension": ".py",
   "mimetype": "text/x-python",
   "name": "python",
   "nbconvert_exporter": "python",
   "pygments_lexer": "ipython3",
   "version": "3.9.7"
  }
 },
 "nbformat": 4,
 "nbformat_minor": 5
}
